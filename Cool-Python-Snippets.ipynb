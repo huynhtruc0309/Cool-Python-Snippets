{
 "cells": [
  {
   "cell_type": "markdown",
   "metadata": {},
   "source": [
    "# Đảo ngược một từ điển (Inverting a dictionary)\n",
    "Đôi khi khi chúng ta có một từ điển (dictionary), chúng ta muốn có thể đảo ngược các khóa (keys) và giá trị (values) của nó. Tất nhiên, có những lo ngại như \"làm thế nào để chúng ta đối phó với các giá trị trùng lặp?\" và \"nếu giá trị (value) không có thể băm (aren't hashable) thì sao?\" Điều đó nói rằng, trong trường hợp đơn giản, có một vài giải pháp (solution):"
   ]
  },
  {
   "cell_type": "markdown",
   "metadata": {},
   "source": [
    "### Đảo ngược từ điển (invert dictionary) có giá trị duy nhất (unique key)."
   ]
  },
  {
   "cell_type": "code",
   "execution_count": 1,
   "metadata": {},
   "outputs": [
    {
     "name": "stdout",
     "output_type": "stream",
     "text": [
      "{'is hard-working': 'Phuong Truc', 'is smart': 'Truong Le', 'is one of most university in Vietnam': 'HCMUS'}\n",
      "\n",
      "{'is hard-working': 'Phuong Truc', 'is smart': 'Truong Le', 'is one of most university in Vietnam': 'HCMUS'}\n"
     ]
    }
   ],
   "source": [
    "my_dict = {\n",
    "  'Phuong Truc': 'is hard-working', \n",
    "  'Truong Le': 'is smart', \n",
    "  'HCMUS': 'is one of most university in Vietnam'\n",
    "}\n",
    "my_inverted_dict = dict(map(reversed, my_dict.items()))\n",
    "print(my_inverted_dict)\n",
    "print()\n",
    "my_inverted_dict = {value: key for key, value in my_dict.items()}\n",
    "print(my_inverted_dict)"
   ]
  },
  {
   "cell_type": "markdown",
   "metadata": {},
   "source": [
    "### Đảo ngược từ điển (invert dictionary) có giá trị không duy nhất (non-unique key)."
   ]
  },
  {
   "cell_type": "code",
   "execution_count": 3,
   "metadata": {},
   "outputs": [
    {
     "name": "stdout",
     "output_type": "stream",
     "text": [
      "defaultdict(<class 'list'>, {1: ['a', 'b', 'c'], 2: ['d', 'e', 'f']})\n",
      "\n",
      "{1: ['a', 'b', 'c'], 2: ['d', 'e', 'f']}\n"
     ]
    }
   ],
   "source": [
    "my_dict = {'a': 1, 'b': 1, 'c': 1, 'd': 2, 'e': 2, 'f': 2}\n",
    "from collections import defaultdict\n",
    "my_inverted_dict = defaultdict(list)\n",
    "{my_inverted_dict[v].append(k) for k, v in my_dict.items()}\n",
    "print(my_inverted_dict)\n",
    "print()\n",
    "\n",
    "my_inverted_dict = dict()\n",
    "for key, value in my_dict.items():\n",
    "    my_inverted_dict.setdefault(value, list()).append(key)\n",
    "print(my_inverted_dict)"
   ]
  },
  {
   "cell_type": "markdown",
   "metadata": {},
   "source": [
    "### Đảo ngược từ điển có danh sách các giá trị"
   ]
  },
  {
   "cell_type": "code",
   "execution_count": 4,
   "metadata": {},
   "outputs": [
    {
     "name": "stdout",
     "output_type": "stream",
     "text": [
      "{'a': 1, 'b': 1, 'c': 1, 'd': 2, 'e': 2, 'f': 2}\n"
     ]
    }
   ],
   "source": [
    "my_inverted_dict = {1: ['a', 'b', 'c'], 2: ['d', 'e', 'f']}\n",
    "my_dict = {value: key for key in my_inverted_dict for value in my_inverted_dict[key]}\n",
    "print(my_dict)"
   ]
  },
  {
   "cell_type": "markdown",
   "metadata": {},
   "source": [
    "# Tổng các phần tử của 2 danh sách liên kết (Summing of two list)\n",
    "Hãy nói rằng bạn có hai danh sách liên kết (list) và bạn muốn hợp nhất chúng thành một danh sách liên kết (list) theo từng phần tử. Nói cách khác, bạn muốn thêm phần tử đầu tiên của danh sách đầu tiên vào phần tử đầu tiên của danh sách liên kết (list) thứ hai và lưu kết quả vào một danh sách liên kết (list) mới. Vâng, có một số cách để làm điều đó:"
   ]
  },
  {
   "cell_type": "markdown",
   "metadata": {},
   "source": [
    "### Cách dài dòng (nên tránh)"
   ]
  },
  {
   "cell_type": "code",
   "execution_count": 6,
   "metadata": {},
   "outputs": [
    {
     "name": "stdout",
     "output_type": "stream",
     "text": [
      "[2, [7, 7], [2, 1], [8374163, 2314567], [84302738, 0]]\n"
     ]
    }
   ],
   "source": [
    "ethernet_devices = [1, [7], [2], [8374163], [84302738]]\n",
    "usb_devices = [1, [7], [1], [2314567], [0]]\n",
    "\n",
    "all_devices = [\n",
    "  ethernet_devices[0] + usb_devices[0], \n",
    "  ethernet_devices[1] + usb_devices[1], \n",
    "  ethernet_devices[2] + usb_devices[2], \n",
    "  ethernet_devices[3] + usb_devices[3], \n",
    "  ethernet_devices[4] + usb_devices[4]\n",
    "]\n",
    "\n",
    "print(all_devices)"
   ]
  },
  {
   "cell_type": "markdown",
   "metadata": {},
   "source": [
    "### Cú pháp comprehension (dành riêng cho python)"
   ]
  },
  {
   "cell_type": "code",
   "execution_count": 7,
   "metadata": {},
   "outputs": [
    {
     "name": "stdout",
     "output_type": "stream",
     "text": [
      "[2, [7, 7], [2, 1], [8374163, 2314567], [84302738, 0]]\n"
     ]
    }
   ],
   "source": [
    "all_devices = [x + y for x, y in zip(ethernet_devices, usb_devices)]\n",
    "print(all_devices)"
   ]
  },
  {
   "cell_type": "markdown",
   "metadata": {},
   "source": [
    "### Sử dụng ánh xạ (map)"
   ]
  },
  {
   "cell_type": "code",
   "execution_count": 8,
   "metadata": {},
   "outputs": [
    {
     "name": "stdout",
     "output_type": "stream",
     "text": [
      "[2, [7, 7], [2, 1], [8374163, 2314567], [84302738, 0]]\n"
     ]
    }
   ],
   "source": [
    "import operator \n",
    "all_devices = list(map(operator.add, ethernet_devices, usb_devices))\n",
    "print(all_devices)"
   ]
  },
  {
   "cell_type": "markdown",
   "metadata": {},
   "source": [
    "### Thư viện numpy"
   ]
  },
  {
   "cell_type": "code",
   "execution_count": 9,
   "metadata": {},
   "outputs": [
    {
     "name": "stdout",
     "output_type": "stream",
     "text": [
      "[2 list([7, 7]) list([2, 1]) list([8374163, 2314567]) list([84302738, 0])]\n"
     ]
    }
   ],
   "source": [
    "import numpy as np \n",
    "all_devices = np.add(ethernet_devices, usb_devices)\n",
    "print(all_devices)"
   ]
  },
  {
   "cell_type": "markdown",
   "metadata": {},
   "source": [
    "# Kiểm tra nếu một file có tồn tại\n",
    "Một trong những đặc quyền tuyệt vời của Python là việc quản lý tệp dễ dàng như thế nào. Không giống như Java, Python có cú pháp tích hợp để đọc và ghi tệp. Kết quả là, kiểm tra nếu một tập tin tồn tại là một nhiệm vụ khá ngắn gọn:"
   ]
  },
  {
   "cell_type": "markdown",
   "metadata": {},
   "source": [
    "### Duyệt trâu (Brute force) với try-except"
   ]
  },
  {
   "cell_type": "code",
   "execution_count": 10,
   "metadata": {},
   "outputs": [],
   "source": [
    "try: \n",
    "    with open('/path/to/file', 'r') as fh:\n",
    "        pass\n",
    "except FileNotFoundError: \n",
    "    pass"
   ]
  },
  {
   "cell_type": "markdown",
   "metadata": {},
   "source": [
    "### Tận dụng gói OS (có thể tranh đoạt tiến trình (possible race condition))"
   ]
  },
  {
   "cell_type": "code",
   "execution_count": null,
   "metadata": {},
   "outputs": [],
   "source": [
    "import os \n",
    "exists = os.path.isfile('/path/to/file')"
   ]
  },
  {
   "cell_type": "markdown",
   "metadata": {},
   "source": [
    "### Bọc đường dẫn trong một đối tượng để tái sử dụng những hàm có sẵn trong đối tướng"
   ]
  },
  {
   "cell_type": "code",
   "execution_count": 11,
   "metadata": {},
   "outputs": [],
   "source": [
    "from pathlib import Path\n",
    "config = Path('/path/to/file') \n",
    "if config.is_file(): \n",
    "    pass"
   ]
  },
  {
   "cell_type": "markdown",
   "metadata": {},
   "source": [
    "# Chuyển đổi hai danh sách liên kết (list) thành một từ điển (dictionary)\n",
    "Trước đây, chúng tôi đã nói về việc tóm tắt hai danh sách liên kết trong Python. Hóa ra, có rất nhiều thứ chúng ta có thể làm với hai danh sách liên kết. Ví dụ: chúng ta có thể thử ánh xạ cái này sang cái khác để tạo một từ điển.\n",
    "\n",
    "Cũng như nhiều vấn đề này, có một vài lo ngại. Chẳng hạn, nếu hai danh sách này có cùng kích thước thì sao? Tương tự như vậy, nếu các khóa không duy nhất (aren't unique) hoặc không có thể băm (aren't hashable) thì sao? Trong trường hợp đơn giản, có một số giải pháp đơn giản:"
   ]
  },
  {
   "cell_type": "markdown",
   "metadata": {},
   "source": [
    "### Chuyển đổi hai danh sách liên kết thành một từ điển với zip và hàm khởi tạo dict"
   ]
  },
  {
   "cell_type": "code",
   "execution_count": 12,
   "metadata": {},
   "outputs": [
    {
     "name": "stdout",
     "output_type": "stream",
     "text": [
      "{'id': 1, 'color': 'red', 'style': 'bold'}\n"
     ]
    }
   ],
   "source": [
    "column_names = ['id', 'color', 'style']\n",
    "column_values = [1, 'red', 'bold']\n",
    "name_to_value_dict = dict(zip(column_names, column_values))\n",
    "print(name_to_value_dict)"
   ]
  },
  {
   "cell_type": "markdown",
   "metadata": {},
   "source": [
    "### Chuyển đổi hai danh sách liên kết thành một từ điển"
   ]
  },
  {
   "cell_type": "code",
   "execution_count": 13,
   "metadata": {},
   "outputs": [
    {
     "name": "stdout",
     "output_type": "stream",
     "text": [
      "{'id': [1, 4, 5], 'color': ['red'], 'style': ['bold']}\n"
     ]
    }
   ],
   "source": [
    "column_names = ['id', 'color', 'style',  'id', 'id']\n",
    "column_values = [1, 'red', 'bold', 4, 5]\n",
    "\n",
    "name_value_tuples = zip(column_names, column_values) \n",
    "name_to_value_dict = {} \n",
    "for key, value in name_value_tuples:\n",
    "    name_to_value_dict.setdefault(key, list()).append(value)\n",
    "print(name_to_value_dict)"
   ]
  },
  {
   "cell_type": "markdown",
   "metadata": {},
   "source": [
    "# Kiểm tra danh sánh liên kết (list) rỗng (empty)\n",
    "Nếu bạn bắt đầu một ngôn ngữ được gõ tĩnh như Java hoặc C, bạn có thể bị làm phiền bởi việc thiếu các kiểu tĩnh trong Python. Chắc chắn, không biết loại biến đôi khi có thể gây bực bội, nhưng cũng có những đặc quyền. Chẳng hạn, chúng ta có thể kiểm tra xem một danh sách có trống không bởi loại linh hoạt của nó trong số các phương thức khác:"
   ]
  },
  {
   "cell_type": "markdown",
   "metadata": {},
   "source": [
    "### Kiểm tra xem danh sách có trống không theo chiều dài của nó"
   ]
  },
  {
   "cell_type": "code",
   "execution_count": null,
   "metadata": {},
   "outputs": [],
   "source": [
    "if len(my_list) == 0:\n",
    "    pass  # danh sách liên kết rỗng"
   ]
  },
  {
   "cell_type": "markdown",
   "metadata": {},
   "source": [
    "### Kiểm tra xem danh sách có trống không bằng cách so sánh trực tiếp (chỉ hoạt động cho danh sách)"
   ]
  },
  {
   "cell_type": "code",
   "execution_count": null,
   "metadata": {},
   "outputs": [],
   "source": [
    "if my_list == []:\n",
    "    pass  # danh sách liên kết rỗng"
   ]
  },
  {
   "cell_type": "markdown",
   "metadata": {},
   "source": [
    "### Kiểm tra xem danh sách có trống không bởi tính linh hoạt của loại (phương thức ưa thích)"
   ]
  },
  {
   "cell_type": "code",
   "execution_count": null,
   "metadata": {},
   "outputs": [],
   "source": [
    "if not my_list:\n",
    "    pass  # danh sách liên kết rỗng"
   ]
  },
  {
   "cell_type": "markdown",
   "metadata": {},
   "source": [
    "# Tạo bản sao cho danh sách liên kết (cloning a list)\n",
    "Một trong những môn học yêu thích của tôi trong lập trình là sao chép các loại dữ liệu. Xét cho cùng, nó không bao giờ dễ dàng trong thế giới dựa trên tham chiếu này, và điều đó cũng đúng với Python. May mắn thay, nếu chúng ta muốn sao chép một danh sách liên kết , có một vài cách để làm điều đó:"
   ]
  },
  {
   "cell_type": "markdown",
   "metadata": {},
   "source": [
    "### Sao chép danh sách liên kết bằng cách duyệt trâu"
   ]
  },
  {
   "cell_type": "code",
   "execution_count": 15,
   "metadata": {},
   "outputs": [
    {
     "name": "stdout",
     "output_type": "stream",
     "text": [
      "[27, 13, -11, 60, 39, 15]\n"
     ]
    }
   ],
   "source": [
    "my_list = [27, 13, -11, 60, 39, 15]\n",
    "my_duplicate_list = [item for item in my_list]\n",
    "print(my_duplicate_list)"
   ]
  },
  {
   "cell_type": "markdown",
   "metadata": {},
   "source": [
    "### Sao chép danh sách liên kết với một lát"
   ]
  },
  {
   "cell_type": "code",
   "execution_count": 16,
   "metadata": {},
   "outputs": [
    {
     "name": "stdout",
     "output_type": "stream",
     "text": [
      "[27, 13, -11, 60, 39, 15]\n"
     ]
    }
   ],
   "source": [
    "my_duplicate_list = my_list[:]\n",
    "print(my_duplicate_list)"
   ]
  },
  {
   "cell_type": "markdown",
   "metadata": {},
   "source": [
    "### Sao chép danh sách liên kết với hàm tạo danh sách liên kết"
   ]
  },
  {
   "cell_type": "code",
   "execution_count": 17,
   "metadata": {},
   "outputs": [
    {
     "name": "stdout",
     "output_type": "stream",
     "text": [
      "[27, 13, -11, 60, 39, 15]\n"
     ]
    }
   ],
   "source": [
    "my_duplicate_list = list(my_list) \n",
    "print(my_duplicate_list)"
   ]
  },
  {
   "cell_type": "markdown",
   "metadata": {},
   "source": [
    "### Sao chép danh sách liên kết với chức năng sao chép (Python 3.3+)"
   ]
  },
  {
   "cell_type": "code",
   "execution_count": 19,
   "metadata": {},
   "outputs": [
    {
     "data": {
      "text/plain": [
       "[27, 13, -11, 60, 39, 15]"
      ]
     },
     "execution_count": 19,
     "metadata": {},
     "output_type": "execute_result"
    }
   ],
   "source": [
    "my_duplicate_list = my_list.copy()\n",
    "my_duplicate_list"
   ]
  },
  {
   "cell_type": "markdown",
   "metadata": {},
   "source": [
    "### Sao chép danh sách liên kết với gói sao chép"
   ]
  },
  {
   "cell_type": "code",
   "execution_count": 20,
   "metadata": {},
   "outputs": [
    {
     "name": "stdout",
     "output_type": "stream",
     "text": [
      "[27, 13, -11, 60, 39, 15]\n",
      "[27, 13, -11, 60, 39, 15]\n"
     ]
    }
   ],
   "source": [
    "import copy\n",
    "my_duplicate_list = copy.copy(my_list)\n",
    "my_deep_duplicate_list = copy.deepcopy(my_list)\n",
    "print(my_duplicate_list)\n",
    "print(my_deep_duplicate_list)"
   ]
  },
  {
   "cell_type": "markdown",
   "metadata": {},
   "source": [
    "Và sự khác biệt của copy và deepcopy"
   ]
  },
  {
   "cell_type": "code",
   "execution_count": null,
   "metadata": {},
   "outputs": [],
   "source": [
    "import copy\n",
    "\n",
    "a = my_list\n",
    "shallow = copy.copy(my_list)\n",
    "deep = copy.deepcopy(my_list)"
   ]
  },
  {
   "cell_type": "markdown",
   "metadata": {},
   "source": [
    "![title](image/deepcopy.png)"
   ]
  },
  {
   "cell_type": "markdown",
   "metadata": {},
   "source": [
    "* a là dùng danh sách liên kết cũ chỉ tạo mới biến trỏ đến danh sách liên kết cũ\n",
    "\n",
    "* shallow là taọ dùng danh sách liên kết mới nhưng các không tạo mới địa chỉ của phần tử trong danh sách liên kết\n",
    "\n",
    "* deep là tạo mới hoàn toàn"
   ]
  },
  {
   "cell_type": "markdown",
   "metadata": {},
   "source": [
    "### Sao chép một danh sách liên kết với phép nhân? (nên tránh)"
   ]
  },
  {
   "cell_type": "code",
   "execution_count": 22,
   "metadata": {},
   "outputs": [
    {
     "data": {
      "text/plain": [
       "[27, 13, -11, 60, 39, 15]"
      ]
     },
     "execution_count": 22,
     "metadata": {},
     "output_type": "execute_result"
    }
   ],
   "source": [
    "my_duplicate_list = my_list * 1  \n",
    "my_duplicate_list"
   ]
  },
  {
   "cell_type": "markdown",
   "metadata": {},
   "source": [
    "# Truy xuất vào phần tử cuối của danh sách liên kết\n",
    "Vì chúng tôi về chủ đề của danh sách liên kết, hãy nói về việc lấy mục cuối cùng của danh sách liên kết. Trong hầu hết các ngôn ngữ, điều này liên quan đến một số biểu thức toán học phức tạp liên quan đến độ dài của danh sách. Điều gì sẽ xảy ra nếu tôi nói với bạn rằng có một số giải pháp thú vị hơn trong Python?"
   ]
  },
  {
   "cell_type": "markdown",
   "metadata": {},
   "source": [
    "### Lấy vật phẩm cuối cùng bằng vũ lực bằng cách sử dụng len"
   ]
  },
  {
   "cell_type": "code",
   "execution_count": 23,
   "metadata": {},
   "outputs": [
    {
     "name": "stdout",
     "output_type": "stream",
     "text": [
      "green\n"
     ]
    }
   ],
   "source": [
    "my_list = ['red', 'blue', 'green']\n",
    "last_item = my_list [len (my_list) - 1]\n",
    "print(last_item)"
   ]
  },
  {
   "cell_type": "markdown",
   "metadata": {},
   "source": [
    "### Xóa mục cuối cùng khỏi danh sách bằng pop"
   ]
  },
  {
   "cell_type": "code",
   "execution_count": 24,
   "metadata": {},
   "outputs": [
    {
     "name": "stdout",
     "output_type": "stream",
     "text": [
      "green\n",
      "['red', 'blue']\n"
     ]
    }
   ],
   "source": [
    "last_item = my_list.pop()\n",
    "print(last_item)\n",
    "print(my_list)"
   ]
  },
  {
   "cell_type": "markdown",
   "metadata": {},
   "source": [
    "### Nhận mục cuối cùng bằng chỉ số phủ định * phương pháp ưa thích & nhanh nhất *"
   ]
  },
  {
   "cell_type": "code",
   "execution_count": 25,
   "metadata": {},
   "outputs": [
    {
     "name": "stdout",
     "output_type": "stream",
     "text": [
      "blue\n"
     ]
    }
   ],
   "source": [
    "last_item = my_list [-1]\n",
    "print(last_item)"
   ]
  },
  {
   "cell_type": "markdown",
   "metadata": {},
   "source": [
    "### Nhận mục cuối cùng bằng cách sử dụng giải nén lặp"
   ]
  },
  {
   "cell_type": "code",
   "execution_count": 26,
   "metadata": {},
   "outputs": [
    {
     "name": "stdout",
     "output_type": "stream",
     "text": [
      "blue\n"
     ]
    }
   ],
   "source": [
    "* _, last_item = my_list\n",
    "print(last_item)"
   ]
  },
  {
   "cell_type": "markdown",
   "metadata": {},
   "source": [
    "# Tạo một Shortcut Python Script (Create a Shortcut Python Script)\n",
    "Đôi khi khi bạn tạo một tập lệnh, bạn muốn có thể chạy nó một cách thuận tiện chỉ với một nút bấm. May mắn thay, có một số cách để làm điều đó."
   ]
  },
  {
   "cell_type": "markdown",
   "metadata": {},
   "source": [
    "### Đầu tiên, chúng ta có thể tạo một lối tắt Windows với các cài đặt sau:"
   ]
  },
  {
   "cell_type": "code",
   "execution_count": null,
   "metadata": {},
   "outputs": [],
   "source": [
    "\\path\\to\\trc-image-titler.py -o \\path\\to\\output"
   ]
  },
  {
   "cell_type": "markdown",
   "metadata": {},
   "source": [
    "### Tương tự, chúng ta cũng có thể tạo một tệp bó với mã sau:"
   ]
  },
  {
   "cell_type": "code",
   "execution_count": null,
   "metadata": {},
   "outputs": [],
   "source": [
    "@echo off\n",
    "\\path\\to\\trc-image-titler.py -o \\path\\to\\output"
   ]
  },
  {
   "cell_type": "markdown",
   "metadata": {},
   "source": [
    "### Cuối cùng, chúng ta có thể tạo một tập lệnh bash với đoạn mã sau:"
   ]
  },
  {
   "cell_type": "code",
   "execution_count": null,
   "metadata": {},
   "outputs": [],
   "source": [
    "#!/bin/sh\n",
    "python /path/to/trc-image-titler.py -o /path/to/output"
   ]
  },
  {
   "cell_type": "markdown",
   "metadata": {},
   "source": [
    "# Sắp xếp 1 List các String\n",
    "Sắp xếp là 1 task thông thường mà bạn sẽ được mong đợi để biết cách triển khai thực hiện trong ngành Khoa học Máy tính. Cho dù việc sắp xếp các thuật toán trong hầu hết các chương trình giảng dạy cần sự tập trung cao độ, không ai sẽ nói cho bạn biết về độ phức tạp mà việc sắp xếp mang lại. Ví dụ: sắp xếp các con số khá đơn giản, vậy còn sắp xếp các string sẽ ra sao? Làm cách nào để ta quyết định 1 thứ tự thích hợp? Không sao cả, có khá nhiều sự lựa chọn trong Python:  "
   ]
  },
  {
   "cell_type": "code",
   "execution_count": 9,
   "metadata": {},
   "outputs": [],
   "source": [
    "my_list = [\"leaf\", \"cherry\", \"fish\"]"
   ]
  },
  {
   "cell_type": "markdown",
   "metadata": {},
   "source": [
    "### Phương pháp duyệt trâu sử dụng bubble sort"
   ]
  },
  {
   "cell_type": "code",
   "execution_count": 3,
   "metadata": {},
   "outputs": [],
   "source": [
    "size = len(my_list)\n",
    "for i in range(size): \n",
    "    for j in range(size): \n",
    "        if my_list[i] < my_list[j]: \n",
    "            temp = my_list[i] \n",
    "            my_list[i] = my_list[j] \n",
    "            my_list[j] = temp"
   ]
  },
  {
   "cell_type": "markdown",
   "metadata": {},
   "source": [
    "### Sắp xếp danh sách chung (nhanh nhất)"
   ]
  },
  {
   "cell_type": "code",
   "execution_count": 9,
   "metadata": {},
   "outputs": [],
   "source": [
    "my_list.sort() # prints [\"Fish\", \"cherry\", \"leaf\"]"
   ]
  },
  {
   "cell_type": "markdown",
   "metadata": {},
   "source": [
    "### Sắp xếp danh sách tuỳ chỉnh bằng casefold"
   ]
  },
  {
   "cell_type": "code",
   "execution_count": 2,
   "metadata": {},
   "outputs": [
    {
     "data": {
      "text/plain": [
       "['cherry', 'fish', 'leaf']"
      ]
     },
     "execution_count": 2,
     "metadata": {},
     "output_type": "execute_result"
    }
   ],
   "source": [
    "my_list.sort(key=str.casefold) # prints [\"cherry\", \"Fish\", \"leaf\"]"
   ]
  },
  {
   "cell_type": "markdown",
   "metadata": {},
   "source": [
    "### Sắp xếp bằng hàm sorted"
   ]
  },
  {
   "cell_type": "code",
   "execution_count": 5,
   "metadata": {},
   "outputs": [],
   "source": [
    "my_list = sorted(my_list) # prints [\"Fish\", \"cherry\", \"leaf\"]"
   ]
  },
  {
   "cell_type": "markdown",
   "metadata": {},
   "source": [
    "### Sắp xếp danh sách tùy chỉnh bằng casefold (>= Python 3.3)"
   ]
  },
  {
   "cell_type": "code",
   "execution_count": null,
   "metadata": {},
   "outputs": [],
   "source": [
    "my_list = sorted(my_list, key=str.casefold) # prints [\"cherry\", \"Fish\", \"leaf\"]"
   ]
  },
  {
   "cell_type": "markdown",
   "metadata": {},
   "source": [
    "### Sắp xếp danh sách tùy chỉnh bằng locale hiện tại"
   ]
  },
  {
   "cell_type": "code",
   "execution_count": 4,
   "metadata": {},
   "outputs": [
    {
     "data": {
      "text/plain": [
       "['cherry', 'fish', 'leaf']"
      ]
     },
     "execution_count": 4,
     "metadata": {},
     "output_type": "execute_result"
    }
   ],
   "source": [
    "import locale\n",
    "from functools import cmp_to_key\n",
    "my_list = sorted(my_list, key=cmp_to_key(locale.strcoll))"
   ]
  },
  {
   "cell_type": "markdown",
   "metadata": {},
   "source": [
    "### Sắp xếp danh sách đảo ngược tùy chỉnh bằng casefold (> = Python 3.3)"
   ]
  },
  {
   "cell_type": "code",
   "execution_count": 10,
   "metadata": {},
   "outputs": [
    {
     "data": {
      "text/plain": [
       "['leaf', 'fish', 'cherry']"
      ]
     },
     "execution_count": 10,
     "metadata": {},
     "output_type": "execute_result"
    }
   ],
   "source": [
    "my_list = sorted(my_list, key=str.casefold, reverse=True)"
   ]
  },
  {
   "cell_type": "markdown",
   "metadata": {},
   "source": [
    "# Phân tích 1 Bảng tính\n",
    "(Parsing a Spreadsheet)\n",
    "\n",
    "1 trong những trường hợp sử dụng thú vị cho Python là vì ‘data science’. Nhưng không may, tuy nhiên, điều đó có nghĩa là bạn phải xử lý rất nhiều ‘raw data’ trong các định dạng khác nhau như file văn bản và bảng tính. May mắn rằng, Python có nhiều tiện ích được built-in cho việc đọc các định dạng file khác nhau. Ví dụ, chúng ta có thể phân tích 1 bảng tính 1 cách dễ dàng bằng cách: "
   ]
  },
  {
   "cell_type": "markdown",
   "metadata": {},
   "source": [
    "### Phương pháp duyệt trâu"
   ]
  },
  {
   "cell_type": "code",
   "execution_count": null,
   "metadata": {},
   "outputs": [],
   "source": [
    "csv_mapping_list = []\n",
    "with open(\"/path/to/data.csv\") as my_data: \n",
    "  line_count = 0 \n",
    "  for line in my_data: \n",
    "    row_list = [val.strip() for val in line.split(\",\")] \n",
    "    if line_count == 0: \n",
    "      header = row_list \n",
    "    else: \n",
    "      row_dict = {key: value for key, value in zip(header, row_list)}\n",
    "      csv_mapping_list.append(row_dict) \n",
    "    line_count += 1"
   ]
  },
  {
   "cell_type": "markdown",
   "metadata": {},
   "source": [
    "### Phương pháp CSV reader"
   ]
  },
  {
   "cell_type": "code",
   "execution_count": null,
   "metadata": {},
   "outputs": [],
   "source": [
    "import csv\n",
    "csv_mapping_list = []\n",
    "with open(\"/path/to/data.csv\") as my_data: \n",
    "  csv_reader = csv.reader(my_data, delimiter=\",\") \n",
    "  line_count = 0 \n",
    "  for line in csv_reader: \n",
    "    if line_count == 0: \n",
    "      header = line \n",
    "    else: \n",
    "      row_dict = {key: value for key, value in zip(header, line)} \n",
    "      csv_mapping_list.append(row_dict) \n",
    "    line_count += 1"
   ]
  },
  {
   "cell_type": "markdown",
   "metadata": {},
   "source": [
    "### Phương pháp CSV DictReader"
   ]
  },
  {
   "cell_type": "code",
   "execution_count": null,
   "metadata": {},
   "outputs": [],
   "source": [
    "import csv\n",
    "with open(\"/path/to/dict.csv\") as my_data: \n",
    "  csv_mapping_list = list(csv.DictReader(my_data))"
   ]
  },
  {
   "cell_type": "markdown",
   "metadata": {},
   "source": [
    "# 4. Sắp xếp 1 List các Dictionary\n",
    "1 khi bạn đã có 1 list các dictionary, bạn có thể sẽ muốn tổ chức chúng trong vài trật tự cụ thể. Ví dụ: nếu các dictionary có 1 key cho date, ta có thể thử sắp xếp chúng theo thứ tự theo niên đại. May thay, sắp xếp là một nhiệm vụ tương đối nhẹ nhàng: "
   ]
  },
  {
   "cell_type": "code",
   "execution_count": 12,
   "metadata": {},
   "outputs": [],
   "source": [
    "csv_mapping_list = [\n",
    "  { \"Name\": \"Jeremy\", \"Age\": 25, \"Favorite Color\": \"Blue\" }, \n",
    "  { \"Name\": \"Ally\", \"Age\": 41, \"Favorite Color\": \"Magenta\" }, \n",
    "  { \"Name\": \"Jasmine\", \"Age\": 29, \"Favorite Color\": \"Aqua\" }\n",
    "]"
   ]
  },
  {
   "cell_type": "markdown",
   "metadata": {},
   "source": [
    "### Sắp xếp tùy chỉnh"
   ]
  },
  {
   "cell_type": "code",
   "execution_count": 11,
   "metadata": {},
   "outputs": [
    {
     "data": {
      "text/plain": [
       "[{'Name': 'Jeremy', 'Age': 25, 'Favorite Color': 'Blue'},\n",
       " {'Name': 'Jasmine', 'Age': 29, 'Favorite Color': 'Aqua'},\n",
       " {'Name': 'Ally', 'Age': 41, 'Favorite Color': 'Magenta'}]"
      ]
     },
     "execution_count": 11,
     "metadata": {},
     "output_type": "execute_result"
    }
   ],
   "source": [
    "# Custom sorting\n",
    "size = len(csv_mapping_list)\n",
    "for i in range(size):\n",
    "    min_index = i\n",
    "    for j in range(i + 1, size):\n",
    "        if csv_mapping_list[min_index][\"Age\"] > csv_mapping_list[j][\"Age\"]:\n",
    "            min_index = j\n",
    "    csv_mapping_list[i], csv_mapping_list[min_index] = csv_mapping_list[min_index], csv_mapping_list[i]\n",
    "    \n",
    "csv_mapping_list"
   ]
  },
  {
   "cell_type": "markdown",
   "metadata": {},
   "source": [
    "###  Hàm sắp xếp danh sách"
   ]
  },
  {
   "cell_type": "code",
   "execution_count": 13,
   "metadata": {},
   "outputs": [
    {
     "data": {
      "text/plain": [
       "[{'Name': 'Jeremy', 'Age': 25, 'Favorite Color': 'Blue'},\n",
       " {'Name': 'Jasmine', 'Age': 29, 'Favorite Color': 'Aqua'},\n",
       " {'Name': 'Ally', 'Age': 41, 'Favorite Color': 'Magenta'}]"
      ]
     },
     "execution_count": 13,
     "metadata": {},
     "output_type": "execute_result"
    }
   ],
   "source": [
    "csv_mapping_list.sort(key=lambda item: item.get(\"Age\"))\n",
    "csv_mapping_list"
   ]
  },
  {
   "cell_type": "markdown",
   "metadata": {},
   "source": [
    "### Sắp xếp danh sách bằng itemgetter"
   ]
  },
  {
   "cell_type": "code",
   "execution_count": null,
   "metadata": {},
   "outputs": [],
   "source": [
    "from operator import itemgetter\n",
    "f = itemgetter('Name')\n",
    "csv_mapping_list.sort(key=f)"
   ]
  },
  {
   "cell_type": "markdown",
   "metadata": {},
   "source": [
    "### Hàm sắp xếp Iterable "
   ]
  },
  {
   "cell_type": "code",
   "execution_count": null,
   "metadata": {},
   "outputs": [],
   "source": [
    "csv_mapping_list = sorted(csv_mapping_list, key=lambda item: item.get(\"Age\"))"
   ]
  },
  {
   "cell_type": "markdown",
   "metadata": {},
   "source": [
    "# Viết 1 List Comprehension\n",
    "1 trong những đề tài Python yêu thích của mình là nói về các list comprehension. Như những ai đã có thời gian dài sử dụng các ngôn ngữ nhu Java, C/C++ và C#, mình chưa từng thấy thứ gì giống như là 1 list comprehension cho tới khi mình tập tành với Python. Giờ đây, mình khá là bị cuốn hút với chúng. Kết quả là, mình đã đặt chúng cùng nhau trong 1 list toàn bộ:"
   ]
  },
  {
   "cell_type": "markdown",
   "metadata": {},
   "source": [
    "### Định nghĩa danh sách 1D chung"
   ]
  },
  {
   "cell_type": "code",
   "execution_count": 15,
   "metadata": {},
   "outputs": [],
   "source": [
    "my_list = [2, 5, -4, 6]"
   ]
  },
  {
   "cell_type": "markdown",
   "metadata": {},
   "source": [
    "### Sao chép danh sách 1D"
   ]
  },
  {
   "cell_type": "code",
   "execution_count": 16,
   "metadata": {},
   "outputs": [
    {
     "data": {
      "text/plain": [
       "[2, 5, -4, 6]"
      ]
     },
     "execution_count": 16,
     "metadata": {},
     "output_type": "execute_result"
    }
   ],
   "source": [
    "[item for item in my_list]"
   ]
  },
  {
   "cell_type": "markdown",
   "metadata": {},
   "source": [
    "### Sao chép và scale giá trị phần tử trong danh sách 1D"
   ]
  },
  {
   "cell_type": "code",
   "execution_count": 17,
   "metadata": {},
   "outputs": [
    {
     "data": {
      "text/plain": [
       "[4, 10, -8, 12]"
      ]
     },
     "execution_count": 17,
     "metadata": {},
     "output_type": "execute_result"
    }
   ],
   "source": [
    "[2 * item for item in my_list]"
   ]
  },
  {
   "cell_type": "markdown",
   "metadata": {},
   "source": [
    "### Sao chép và lọc ra những thành phần không âm từ danh sách 1D"
   ]
  },
  {
   "cell_type": "code",
   "execution_count": 18,
   "metadata": {},
   "outputs": [
    {
     "data": {
      "text/plain": [
       "[-4]"
      ]
     },
     "execution_count": 18,
     "metadata": {},
     "output_type": "execute_result"
    }
   ],
   "source": [
    "[item for item in my_list if item < 0]"
   ]
  },
  {
   "cell_type": "markdown",
   "metadata": {},
   "source": [
    "### Sao chép, lọc và scale giá trị phần tử trong danh sách 1D"
   ]
  },
  {
   "cell_type": "code",
   "execution_count": 19,
   "metadata": {},
   "outputs": [
    {
     "data": {
      "text/plain": [
       "[-8]"
      ]
     },
     "execution_count": 19,
     "metadata": {},
     "output_type": "execute_result"
    }
   ],
   "source": [
    "[2 * item for item in my_list if item < 0]"
   ]
  },
  {
   "cell_type": "markdown",
   "metadata": {},
   "source": [
    "### Tạo tất cả các cặp có thể từ hai danh sách"
   ]
  },
  {
   "cell_type": "code",
   "execution_count": 14,
   "metadata": {},
   "outputs": [
    {
     "data": {
      "text/plain": [
       "[(1, 2), (1, 4), (1, 6), (3, 2), (3, 4), (3, 6), (5, 2), (5, 4), (5, 6)]"
      ]
     },
     "execution_count": 14,
     "metadata": {},
     "output_type": "execute_result"
    }
   ],
   "source": [
    "[(a, b) for a in (1, 3, 5) for b in (2, 4, 6)]"
   ]
  },
  {
   "cell_type": "markdown",
   "metadata": {},
   "source": [
    "### Khởi tạo lại danh sách thành 2D"
   ]
  },
  {
   "cell_type": "code",
   "execution_count": 20,
   "metadata": {},
   "outputs": [],
   "source": [
    "my_list = [[1, 2], [3, 4]]"
   ]
  },
  {
   "cell_type": "markdown",
   "metadata": {},
   "source": [
    "### Sao chép danh sách 2D"
   ]
  },
  {
   "cell_type": "code",
   "execution_count": 21,
   "metadata": {},
   "outputs": [
    {
     "data": {
      "text/plain": [
       "[[1, 2], [3, 4]]"
      ]
     },
     "execution_count": 21,
     "metadata": {},
     "output_type": "execute_result"
    }
   ],
   "source": [
    "[[item for item in sub_list] for sub_list in my_list]"
   ]
  },
  {
   "cell_type": "markdown",
   "metadata": {},
   "source": [
    "### Sao chép danh sách n chiều"
   ]
  },
  {
   "cell_type": "code",
   "execution_count": 22,
   "metadata": {},
   "outputs": [
    {
     "data": {
      "text/plain": [
       "[[1, 2], [3, 4]]"
      ]
     },
     "execution_count": 22,
     "metadata": {},
     "output_type": "execute_result"
    }
   ],
   "source": [
    "def deep_copy(to_copy): \n",
    "    if type(to_copy) is list: \n",
    "        return [deep_copy(item) for item in to_copy] \n",
    "    else: \n",
    "        return to_copy\n",
    "    \n",
    "deep_copy(my_list)"
   ]
  },
  {
   "cell_type": "markdown",
   "metadata": {},
   "source": [
    "# Gộp 2 Dictionary\n",
    "Trong bộ sưu tập này, ta đã nói rất nhiều về việc xử lý các cấu trúc data như list và dictionary. Vâng, cái này cũng sẽ tương tự. Cụ thể hơn là, chúng ta đang xem về việc gộp 2 dictionary lại với nhau. Dĩ nhiên, việc hợp nhất 2 dictionary sẽ mang vài rủi ro. Ví dụ: Nếu có các key bị lặp (duplicate key) thì sẽ ra sao? Thật may vì ta sẽ có các giải pháp cho nó:"
   ]
  },
  {
   "cell_type": "code",
   "execution_count": 4,
   "metadata": {},
   "outputs": [],
   "source": [
    "yusuke_power = {\"Yusuke Urameshi\": \"Spirit Gun\"}\n",
    "hiei_power = {\"Hiei\": \"Jagan Eye\"}\n",
    "powers = dict()"
   ]
  },
  {
   "cell_type": "markdown",
   "metadata": {},
   "source": [
    "### Duyệt trâu"
   ]
  },
  {
   "cell_type": "code",
   "execution_count": 5,
   "metadata": {},
   "outputs": [
    {
     "data": {
      "text/plain": [
       "{'Yusuke Urameshi': 'Spirit Gun', 'Hiei': 'Jagan Eye'}"
      ]
     },
     "execution_count": 5,
     "metadata": {},
     "output_type": "execute_result"
    }
   ],
   "source": [
    "for dictionary in (yusuke_power, hiei_power): \n",
    "    for key, value in dictionary.items(): \n",
    "        powers[key] = value\n",
    "powers"
   ]
  },
  {
   "cell_type": "markdown",
   "metadata": {},
   "source": [
    "### Dictionary Comprehension"
   ]
  },
  {
   "cell_type": "code",
   "execution_count": 6,
   "metadata": {},
   "outputs": [
    {
     "data": {
      "text/plain": [
       "{'Yusuke Urameshi': 'Spirit Gun', 'Hiei': 'Jagan Eye'}"
      ]
     },
     "execution_count": 6,
     "metadata": {},
     "output_type": "execute_result"
    }
   ],
   "source": [
    "powers = {key: value for d in (yusuke_power, hiei_power) for key, value in d.items()}\n",
    "powers"
   ]
  },
  {
   "cell_type": "markdown",
   "metadata": {},
   "source": [
    "### Sao chép và cập nhật"
   ]
  },
  {
   "cell_type": "code",
   "execution_count": 7,
   "metadata": {},
   "outputs": [],
   "source": [
    "powers = yusuke_power.copy()\n",
    "powers.update(hiei_power)"
   ]
  },
  {
   "cell_type": "markdown",
   "metadata": {},
   "source": [
    "### Giải nén từ điển (Python 3.5+)"
   ]
  },
  {
   "cell_type": "code",
   "execution_count": 8,
   "metadata": {},
   "outputs": [],
   "source": [
    "powers = {**yusuke_power, **hiei_power}"
   ]
  },
  {
   "cell_type": "markdown",
   "metadata": {},
   "source": [
    "### Hàm tương thích ngược cho bất kỳ số lượng dicts"
   ]
  },
  {
   "cell_type": "code",
   "execution_count": 3,
   "metadata": {},
   "outputs": [],
   "source": [
    "def merge_dicts(*dicts: dict): \n",
    "  merged_dict = dict() \n",
    "  for dictionary in dicts: \n",
    "    merge_dict.update(dictionary) \n",
    "  return merged_dict"
   ]
  },
  {
   "cell_type": "markdown",
   "metadata": {},
   "source": [
    "# Định dạng 1 String\n",
    "Dù thích hay không, chúng ta cũng sẽ tự thấy rằng mình mình hay vùi dập các lệnh print xuyên suốt dòng code cho mục đích debug nhanh hơn. Sau tất cả, 1 lệnh print được đặt đúng chỗ có thể giúp bạn tiết kiệm được khá nhiều thời gian. Tuy nhiên, không phải lúc này cũng dễ dàng và tiện lợi để hiển thị đúng thứ ta muốn. Nhưng không sao cả, Python có khá nhiều lựa chọn cho ‘format’: "
   ]
  },
  {
   "cell_type": "code",
   "execution_count": 18,
   "metadata": {},
   "outputs": [],
   "source": [
    "name = \"Jeremy\"\n",
    "age = 25"
   ]
  },
  {
   "cell_type": "markdown",
   "metadata": {},
   "source": [
    "### Định dạng chuỗi bằng cách sử dụng nối"
   ]
  },
  {
   "cell_type": "code",
   "execution_count": 19,
   "metadata": {},
   "outputs": [
    {
     "name": "stdout",
     "output_type": "stream",
     "text": [
      "My name is Jeremy, and I am 25 years old.\n"
     ]
    }
   ],
   "source": [
    "print(\"My name is \" + name + \", and I am \" + str(age) + \" years old.\")"
   ]
  },
  {
   "cell_type": "markdown",
   "metadata": {},
   "source": [
    "### Định dạng chuỗi bằng print nhiều lần"
   ]
  },
  {
   "cell_type": "code",
   "execution_count": 20,
   "metadata": {},
   "outputs": [
    {
     "name": "stdout",
     "output_type": "stream",
     "text": [
      "My name is Jeremy, and I am 25 years old.\n"
     ]
    }
   ],
   "source": [
    "print(\"My name is \", end=\"\")\n",
    "print(name, end=\"\")\n",
    "print(\", and I am \", end=\"\")\n",
    "print(age, end=\"\")\n",
    "print(\" years old.\")"
   ]
  },
  {
   "cell_type": "markdown",
   "metadata": {},
   "source": [
    "### Định dạng chuỗi bằng cách sử dụng join"
   ]
  },
  {
   "cell_type": "code",
   "execution_count": 21,
   "metadata": {},
   "outputs": [
    {
     "name": "stdout",
     "output_type": "stream",
     "text": [
      "My name is Jeremy, and I am 25 years old\n"
     ]
    }
   ],
   "source": [
    "print(''.join([\"My name is \", name, \", and I am \", str(age), \" years old\"]))"
   ]
  },
  {
   "cell_type": "markdown",
   "metadata": {},
   "source": [
    "### Định dạng chuỗi bằng toán tử module"
   ]
  },
  {
   "cell_type": "code",
   "execution_count": 22,
   "metadata": {},
   "outputs": [
    {
     "name": "stdout",
     "output_type": "stream",
     "text": [
      "My name is Jeremy, and I am 25 years old.\n"
     ]
    }
   ],
   "source": [
    "print(\"My name is %s, and I am %d years old.\" % (name, age))"
   ]
  },
  {
   "cell_type": "markdown",
   "metadata": {},
   "source": [
    "### Định dạng chuỗi bằng hàm format với các tham số được sắp xếp"
   ]
  },
  {
   "cell_type": "code",
   "execution_count": 23,
   "metadata": {},
   "outputs": [
    {
     "name": "stdout",
     "output_type": "stream",
     "text": [
      "My name is Jeremy, and I am 25 years old\n"
     ]
    }
   ],
   "source": [
    "print(\"My name is {}, and I am {} years old\".format(name, age))"
   ]
  },
  {
   "cell_type": "markdown",
   "metadata": {},
   "source": [
    "### Định dạng chuỗi bằng hàm format với các tham số được đặt tên"
   ]
  },
  {
   "cell_type": "code",
   "execution_count": 24,
   "metadata": {},
   "outputs": [
    {
     "name": "stdout",
     "output_type": "stream",
     "text": [
      "My name is Jeremy, and I am 25 years old\n"
     ]
    }
   ],
   "source": [
    "print(\"My name is {n}, and I am {a} years old\".format(a=age, n=name))"
   ]
  },
  {
   "cell_type": "markdown",
   "metadata": {},
   "source": [
    "### Định dạng chuỗi bằng f-Strings (Python 3.6+)"
   ]
  },
  {
   "cell_type": "code",
   "execution_count": 25,
   "metadata": {},
   "outputs": [
    {
     "name": "stdout",
     "output_type": "stream",
     "text": [
      "My name is Jeremy, and I am 25 years old\n"
     ]
    }
   ],
   "source": [
    "print(f\"My name is {name}, and I am {age} years old\")"
   ]
  },
  {
   "cell_type": "markdown",
   "metadata": {},
   "source": [
    "# Print trên cùng 1 Dòng\n",
    "Đi cùng với dòng tương tự như việc định dạng các string, đôi lúc bạn chỉ cần để print trên cùng 1 dòng trong Python. Cũng như lệnh “ print “ hiện tại được thiết kế, nó tự động áp dụng 1 dòng mới tới cuối dòng string của bạn. May thay, có 1 vài cách bên cạnh đó:"
   ]
  },
  {
   "cell_type": "markdown",
   "metadata": {},
   "source": [
    "### Tương thích ngược (nhanh nhất)"
   ]
  },
  {
   "cell_type": "code",
   "execution_count": 26,
   "metadata": {},
   "outputs": [
    {
     "name": "stdout",
     "output_type": "stream",
     "text": [
      "Breaking Bad"
     ]
    }
   ],
   "source": [
    "import sys\n",
    "sys.stdout.write(\"Breaking Bad\")"
   ]
  },
  {
   "cell_type": "markdown",
   "metadata": {},
   "source": [
    "### Chỉ với Python 3"
   ]
  },
  {
   "cell_type": "code",
   "execution_count": 27,
   "metadata": {},
   "outputs": [
    {
     "name": "stdout",
     "output_type": "stream",
     "text": [
      "Mob Psycho 100"
     ]
    }
   ],
   "source": [
    "print(\"Mob Psycho 100\", end=\"\")"
   ]
  },
  {
   "cell_type": "markdown",
   "metadata": {},
   "source": [
    "# Kiểm tra Hiệu năng"
   ]
  },
  {
   "cell_type": "markdown",
   "metadata": {},
   "source": [
    "### Phương pháp duyệt trâu"
   ]
  },
  {
   "cell_type": "code",
   "execution_count": 28,
   "metadata": {},
   "outputs": [
    {
     "name": "stdout",
     "output_type": "stream",
     "text": [
      "0:00:00.000275\n"
     ]
    }
   ],
   "source": [
    "import datetime\n",
    "start_time = datetime.datetime.now()\n",
    "[(a, b) for a in (1, 3, 5) for b in (2, 4, 6)] \n",
    "# example snippet\n",
    "end_time = datetime.datetime.now()\n",
    "print(end_time - start_time)"
   ]
  },
  {
   "cell_type": "markdown",
   "metadata": {},
   "source": [
    "### Phương pháp timeit "
   ]
  },
  {
   "cell_type": "code",
   "execution_count": 29,
   "metadata": {},
   "outputs": [
    {
     "data": {
      "text/plain": [
       "1.58934004799994"
      ]
     },
     "execution_count": 29,
     "metadata": {},
     "output_type": "execute_result"
    }
   ],
   "source": [
    "import timeit\n",
    "min(timeit.repeat(\"[(a, b) for a in (1, 3, 5) for b in (2, 4, 6)]\"))"
   ]
  },
  {
   "cell_type": "markdown",
   "metadata": {},
   "source": [
    "### Phương pháp cProfile "
   ]
  },
  {
   "cell_type": "code",
   "execution_count": 30,
   "metadata": {},
   "outputs": [
    {
     "name": "stdout",
     "output_type": "stream",
     "text": [
      "4 function calls in 0.000 seconds\n",
      "\n",
      "   Ordered by: standard name\n",
      "\n",
      "   ncalls  tottime  percall  cumtime  percall filename:lineno(function)\n",
      "        1    0.000    0.000    0.000    0.000 <string>:1(<listcomp>)\n",
      "        1    0.000    0.000    0.000    0.000 <string>:1(<module>)\n",
      "        1    0.000    0.000    0.000    0.000 {built-in method builtins.exec}\n",
      "        1    0.000    0.000    0.000    0.000 {method 'disable' of '_lsprof.Profiler' objects}\n",
      "\n",
      "\n"
     ]
    }
   ],
   "source": [
    "import cProfile\n",
    "cProfile.run(\"[(a, b) for a in (1, 3, 5) for b in (2, 4, 6)]\")"
   ]
  }
 ],
 "metadata": {
  "kernelspec": {
   "display_name": "Python 3",
   "language": "python",
   "name": "python3"
  },
  "language_info": {
   "codemirror_mode": {
    "name": "ipython",
    "version": 3
   },
   "file_extension": ".py",
   "mimetype": "text/x-python",
   "name": "python",
   "nbconvert_exporter": "python",
   "pygments_lexer": "ipython3",
   "version": "3.7.4"
  }
 },
 "nbformat": 4,
 "nbformat_minor": 2
}
